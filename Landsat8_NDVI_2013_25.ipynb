{
  "nbformat": 4,
  "nbformat_minor": 0,
  "metadata": {
    "colab": {
      "provenance": [],
      "gpuType": "T4",
      "authorship_tag": "ABX9TyPgui/yltgPjK6jjbEVb9eW",
      "include_colab_link": true
    },
    "kernelspec": {
      "name": "python3",
      "display_name": "Python 3"
    },
    "language_info": {
      "name": "python"
    },
    "accelerator": "GPU"
  },
  "cells": [
    {
      "cell_type": "markdown",
      "metadata": {
        "id": "view-in-github",
        "colab_type": "text"
      },
      "source": [
        "<a href=\"https://colab.research.google.com/github/Minteb/Hyperspectral-Image-Classification-using-Random-Forest-Algorithm/blob/main/Landsat8_NDVI_2013_25.ipynb\" target=\"_parent\"><img src=\"https://colab.research.google.com/assets/colab-badge.svg\" alt=\"Open In Colab\"/></a>"
      ]
    },
    {
      "cell_type": "code",
      "source": [
        "import ee\n",
        "import geemap\n",
        "import os\n",
        "from google.colab import files\n",
        "\n",
        "# Initialize Earth Engine\n",
        "ee.Authenticate()\n",
        "ee.Initialize(project='spiaproject')"
      ],
      "metadata": {
        "id": "q3hXvXfIFHq6"
      },
      "execution_count": 1,
      "outputs": []
    },
    {
      "cell_type": "code",
      "source": [
        "# Define ROI (adjust coordinates as needed)\n",
        "roi = ee.Geometry.Polygon(\n",
        "    [[[38.5, 8.8],\n",
        "      [38.5, 9.2],\n",
        "      [39.0, 9.2],\n",
        "      [39.0, 8.8]]])"
      ],
      "metadata": {
        "colab": {
          "base_uri": "https://localhost:8080/",
          "height": 17
        },
        "id": "zPK8C-NiFL0K",
        "outputId": "cd6ad8e3-0a21-4148-aefc-01544c3969c8"
      },
      "execution_count": 2,
      "outputs": [
        {
          "output_type": "display_data",
          "data": {
            "text/plain": [
              "<IPython.core.display.HTML object>"
            ],
            "text/html": [
              "\n",
              "            <style>\n",
              "                .geemap-dark {\n",
              "                    --jp-widgets-color: white;\n",
              "                    --jp-widgets-label-color: white;\n",
              "                    --jp-ui-font-color1: white;\n",
              "                    --jp-layout-color2: #454545;\n",
              "                    background-color: #383838;\n",
              "                }\n",
              "\n",
              "                .geemap-dark .jupyter-button {\n",
              "                    --jp-layout-color3: #383838;\n",
              "                }\n",
              "\n",
              "                .geemap-colab {\n",
              "                    background-color: var(--colab-primary-surface-color, white);\n",
              "                }\n",
              "\n",
              "                .geemap-colab .jupyter-button {\n",
              "                    --jp-layout-color3: var(--colab-primary-surface-color, white);\n",
              "                }\n",
              "            </style>\n",
              "            "
            ]
          },
          "metadata": {}
        }
      ]
    },
    {
      "cell_type": "code",
      "source": [
        "# Cloud masking function\n",
        "def mask_clouds(image):\n",
        "    cloudShadowBitMask = (1 << 3)\n",
        "    cloudsBitMask = (1 << 5)\n",
        "    qa = image.select('QA_PIXEL')\n",
        "    mask = qa.bitwiseAnd(cloudShadowBitMask).eq(0) \\\n",
        "           .And(qa.bitwiseAnd(cloudsBitMask).eq(0))\n",
        "    return image.updateMask(mask)"
      ],
      "metadata": {
        "colab": {
          "base_uri": "https://localhost:8080/",
          "height": 17
        },
        "id": "Dpp76y26FRwu",
        "outputId": "2ec566ec-36ec-497b-ad76-5f3f69bea853"
      },
      "execution_count": 3,
      "outputs": [
        {
          "output_type": "display_data",
          "data": {
            "text/plain": [
              "<IPython.core.display.HTML object>"
            ],
            "text/html": [
              "\n",
              "            <style>\n",
              "                .geemap-dark {\n",
              "                    --jp-widgets-color: white;\n",
              "                    --jp-widgets-label-color: white;\n",
              "                    --jp-ui-font-color1: white;\n",
              "                    --jp-layout-color2: #454545;\n",
              "                    background-color: #383838;\n",
              "                }\n",
              "\n",
              "                .geemap-dark .jupyter-button {\n",
              "                    --jp-layout-color3: #383838;\n",
              "                }\n",
              "\n",
              "                .geemap-colab {\n",
              "                    background-color: var(--colab-primary-surface-color, white);\n",
              "                }\n",
              "\n",
              "                .geemap-colab .jupyter-button {\n",
              "                    --jp-layout-color3: var(--colab-primary-surface-color, white);\n",
              "                }\n",
              "            </style>\n",
              "            "
            ]
          },
          "metadata": {}
        }
      ]
    },
    {
      "cell_type": "code",
      "source": [
        "# NDVI calculation\n",
        "def add_ndvi(image):\n",
        "    ndvi = image.normalizedDifference(['SR_B5', 'SR_B4']).rename('NDVI')\n",
        "    return image.addBands(ndvi)"
      ],
      "metadata": {
        "colab": {
          "base_uri": "https://localhost:8080/",
          "height": 17
        },
        "id": "im3WGvQvFUhp",
        "outputId": "56d5d115-bc5d-42aa-8db6-58b40cbe386f"
      },
      "execution_count": 4,
      "outputs": [
        {
          "output_type": "display_data",
          "data": {
            "text/plain": [
              "<IPython.core.display.HTML object>"
            ],
            "text/html": [
              "\n",
              "            <style>\n",
              "                .geemap-dark {\n",
              "                    --jp-widgets-color: white;\n",
              "                    --jp-widgets-label-color: white;\n",
              "                    --jp-ui-font-color1: white;\n",
              "                    --jp-layout-color2: #454545;\n",
              "                    background-color: #383838;\n",
              "                }\n",
              "\n",
              "                .geemap-dark .jupyter-button {\n",
              "                    --jp-layout-color3: #383838;\n",
              "                }\n",
              "\n",
              "                .geemap-colab {\n",
              "                    background-color: var(--colab-primary-surface-color, white);\n",
              "                }\n",
              "\n",
              "                .geemap-colab .jupyter-button {\n",
              "                    --jp-layout-color3: var(--colab-primary-surface-color, white);\n",
              "                }\n",
              "            </style>\n",
              "            "
            ]
          },
          "metadata": {}
        }
      ]
    },
    {
      "cell_type": "code",
      "source": [
        "# Landsat 8 collection with cloud masking\n",
        "collection = (ee.ImageCollection('LANDSAT/LC08/C02/T1_L2')\n",
        "              .filterBounds(roi)\n",
        "              .filterDate('2014-01-01', '2024-12-31')\n",
        "              .map(mask_clouds)\n",
        "              .map(add_ndvi)\n",
        "              .select('NDVI'))"
      ],
      "metadata": {
        "colab": {
          "base_uri": "https://localhost:8080/",
          "height": 17
        },
        "id": "R4K_5qFhFWry",
        "outputId": "2d1863ee-7049-4c1e-b114-dcde4fff3406"
      },
      "execution_count": 5,
      "outputs": [
        {
          "output_type": "display_data",
          "data": {
            "text/plain": [
              "<IPython.core.display.HTML object>"
            ],
            "text/html": [
              "\n",
              "            <style>\n",
              "                .geemap-dark {\n",
              "                    --jp-widgets-color: white;\n",
              "                    --jp-widgets-label-color: white;\n",
              "                    --jp-ui-font-color1: white;\n",
              "                    --jp-layout-color2: #454545;\n",
              "                    background-color: #383838;\n",
              "                }\n",
              "\n",
              "                .geemap-dark .jupyter-button {\n",
              "                    --jp-layout-color3: #383838;\n",
              "                }\n",
              "\n",
              "                .geemap-colab {\n",
              "                    background-color: var(--colab-primary-surface-color, white);\n",
              "                }\n",
              "\n",
              "                .geemap-colab .jupyter-button {\n",
              "                    --jp-layout-color3: var(--colab-primary-surface-color, white);\n",
              "                }\n",
              "            </style>\n",
              "            "
            ]
          },
          "metadata": {}
        }
      ]
    },
    {
      "cell_type": "code",
      "source": [
        "# Create monthly composites\n",
        "def create_monthly_composites(year, month):\n",
        "    start_date = ee.Date.fromYMD(year, month, 1)\n",
        "    end_date = start_date.advance(1, 'month')\n",
        "\n",
        "    monthly = collection.filterDate(start_date, end_date)\n",
        "    composite = monthly.median().clip(roi)\n",
        "\n",
        "    # Get mean NDVI value (returns a server-side object)\n",
        "    mean_val = composite.reduceRegion(\n",
        "        reducer=ee.Reducer.mean(),\n",
        "        geometry=roi,\n",
        "        scale=30\n",
        "    ).get('NDVI')\n",
        "\n",
        "    return composite, mean_val"
      ],
      "metadata": {
        "colab": {
          "base_uri": "https://localhost:8080/",
          "height": 17
        },
        "id": "heePyaswFa-U",
        "outputId": "1427b8e4-df5a-463a-f10b-92b03516832d"
      },
      "execution_count": 6,
      "outputs": [
        {
          "output_type": "display_data",
          "data": {
            "text/plain": [
              "<IPython.core.display.HTML object>"
            ],
            "text/html": [
              "\n",
              "            <style>\n",
              "                .geemap-dark {\n",
              "                    --jp-widgets-color: white;\n",
              "                    --jp-widgets-label-color: white;\n",
              "                    --jp-ui-font-color1: white;\n",
              "                    --jp-layout-color2: #454545;\n",
              "                    background-color: #383838;\n",
              "                }\n",
              "\n",
              "                .geemap-dark .jupyter-button {\n",
              "                    --jp-layout-color3: #383838;\n",
              "                }\n",
              "\n",
              "                .geemap-colab {\n",
              "                    background-color: var(--colab-primary-surface-color, white);\n",
              "                }\n",
              "\n",
              "                .geemap-colab .jupyter-button {\n",
              "                    --jp-layout-color3: var(--colab-primary-surface-color, white);\n",
              "                }\n",
              "            </style>\n",
              "            "
            ]
          },
          "metadata": {}
        }
      ]
    },
    {
      "cell_type": "code",
      "source": [
        "# Output folder\n",
        "output_folder = \"/content/Landsat_NDVI/\"\n",
        "os.makedirs(output_folder, exist_ok=True)"
      ],
      "metadata": {
        "colab": {
          "base_uri": "https://localhost:8080/",
          "height": 17
        },
        "id": "2fVEWSCLFgSn",
        "outputId": "39c64536-e278-4aa8-b199-0df50e2a4f06"
      },
      "execution_count": 7,
      "outputs": [
        {
          "output_type": "display_data",
          "data": {
            "text/plain": [
              "<IPython.core.display.HTML object>"
            ],
            "text/html": [
              "\n",
              "            <style>\n",
              "                .geemap-dark {\n",
              "                    --jp-widgets-color: white;\n",
              "                    --jp-widgets-label-color: white;\n",
              "                    --jp-ui-font-color1: white;\n",
              "                    --jp-layout-color2: #454545;\n",
              "                    background-color: #383838;\n",
              "                }\n",
              "\n",
              "                .geemap-dark .jupyter-button {\n",
              "                    --jp-layout-color3: #383838;\n",
              "                }\n",
              "\n",
              "                .geemap-colab {\n",
              "                    background-color: var(--colab-primary-surface-color, white);\n",
              "                }\n",
              "\n",
              "                .geemap-colab .jupyter-button {\n",
              "                    --jp-layout-color3: var(--colab-primary-surface-color, white);\n",
              "                }\n",
              "            </style>\n",
              "            "
            ]
          },
          "metadata": {}
        }
      ]
    },
    {
      "cell_type": "code",
      "source": [
        "for year in range(2014, 2025):\n",
        "    print(f\"\\nProcessing year: {year}\")\n",
        "    for month in range(1, 13):\n",
        "        print(f\"Month: {month:02d}\", end=' ')\n",
        "\n",
        "        try:\n",
        "            composite, mean_val = create_monthly_composites(year, month)\n",
        "\n",
        "            # Get the actual mean value (client-side)\n",
        "            mean_val_info = mean_val.getInfo()  # This fetches the value from server\n",
        "\n",
        "            if mean_val_info is None:\n",
        "                print(\"⚠️ No valid data\")\n",
        "                continue\n",
        "\n",
        "            filename = f\"NDVI_{year}_{month:02d}.tif\"\n",
        "            filepath = os.path.join(output_folder, filename)\n",
        "\n",
        "            # Export\n",
        "            geemap.ee_export_image(\n",
        "                composite,\n",
        "                filename=filepath,\n",
        "                scale=30,\n",
        "                region=roi,\n",
        "                file_per_band=False\n",
        "            )\n",
        "\n",
        "            print(f\"✅ Exported (Mean NDVI: {mean_val_info:.3f})\")\n",
        "\n",
        "            # Download\n",
        "            files.download(filepath)\n",
        "\n",
        "        except Exception as e:\n",
        "            print(f\"❌ Error: {str(e)}\")\n",
        "            continue\n",
        "print(\"Processing complete!\")"
      ],
      "metadata": {
        "id": "xlac-glVFkVm"
      },
      "execution_count": null,
      "outputs": []
    },
    {
      "cell_type": "code",
      "source": [
        "print(\"Processing complete!\")"
      ],
      "metadata": {
        "id": "Ww1wfA32FlJo"
      },
      "execution_count": null,
      "outputs": []
    }
  ]
}